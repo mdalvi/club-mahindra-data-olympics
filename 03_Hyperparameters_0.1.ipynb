{
 "cells": [
  {
   "cell_type": "code",
   "execution_count": 1,
   "metadata": {},
   "outputs": [],
   "source": [
    "import os\n",
    "\n",
    "import numpy as np\n",
    "import pandas as pd\n",
    "\n",
    "import matplotlib.pyplot as plt\n",
    "%matplotlib inline\n",
    "import seaborn as sns\n",
    "sns.set_style(\"whitegrid\", {'axes.grid' : False})\n",
    "\n",
    "import joblib\n",
    "\n",
    "import lightgbm as lgb\n",
    "\n",
    "from tqdm import tqdm_notebook\n",
    "import scipy.optimize as spo\n",
    "\n",
    "from sklearn.metrics import mean_squared_error\n",
    "from sklearn.model_selection import train_test_split\n",
    "from sklearn.model_selection import KFold\n",
    "from sklearn.preprocessing import FunctionTransformer\n",
    "\n",
    "from hyperopt import hp, fmin, tpe, STATUS_OK, Trials"
   ]
  },
  {
   "cell_type": "code",
   "execution_count": 2,
   "metadata": {},
   "outputs": [],
   "source": [
    "def run_lgbm(X_train, X_test, y_train, y_test, feature_names, categorical_features='auto', model_params=None, fit_params=None, seed=21):\n",
    "\n",
    "    X_train_GBM = lgb.Dataset(X_train, label=y_train, feature_name=feature_names, categorical_feature=categorical_features, free_raw_data=False)\n",
    "    X_test_GBM = lgb.Dataset(X_test, label=y_test, reference=X_train_GBM, feature_name=feature_names, free_raw_data=False)\n",
    "    \n",
    "    if model_params is None:\n",
    "        model_params = {'seed': seed, 'num_threads': 16, 'objective':'root_mean_squared_error', \n",
    "                        'metric': ['root_mean_squared_error'] }\n",
    "        \n",
    "    if fit_params is None:\n",
    "        fit_params = {'verbose_eval': True, 'num_boost_round': 300, 'valid_sets': [X_test_GBM], \n",
    "                      'early_stopping_rounds': 30, 'categorical_feature': categorical_features, 'feature_name': feature_names}\n",
    "        \n",
    "    model = lgb.train(model_params, X_train_GBM, **fit_params)\n",
    "    y_pred = model.predict(X_test, model.best_iteration)\n",
    "    return model, y_pred, mean_squared_error(y_test, y_pred)"
   ]
  },
  {
   "cell_type": "markdown",
   "metadata": {},
   "source": [
    "## Lgbm"
   ]
  },
  {
   "cell_type": "code",
   "execution_count": 3,
   "metadata": {},
   "outputs": [],
   "source": [
    "df_train_dataset = pd.read_pickle('data/df/df_train_dataset.pkl')\n",
    "df_validation_dataset = pd.read_pickle('data/df/df_validation_dataset.pkl')"
   ]
  },
  {
   "cell_type": "code",
   "execution_count": 4,
   "metadata": {},
   "outputs": [],
   "source": [
    "continuous_features = joblib.load('data/iterables/continuous_features.joblib')\n",
    "categorical_features = joblib.load('data/iterables/categorical_features.joblib')\n",
    "target_features = joblib.load('data/iterables/target_features.joblib')\n",
    "target_transformer = joblib.load('models/preprocessing/target_transformer.joblib')"
   ]
  },
  {
   "cell_type": "code",
   "execution_count": 5,
   "metadata": {},
   "outputs": [
    {
     "data": {
      "text/plain": [
       "((338192, 122), (146765, 122))"
      ]
     },
     "execution_count": 5,
     "metadata": {},
     "output_type": "execute_result"
    }
   ],
   "source": [
    "df_train_dataset.shape, df_validation_dataset.shape"
   ]
  },
  {
   "cell_type": "code",
   "execution_count": 6,
   "metadata": {},
   "outputs": [
    {
     "name": "stdout",
     "output_type": "stream",
     "text": [
      "(338192, 119) (338192,)\n"
     ]
    }
   ],
   "source": [
    "X = df_train_dataset[categorical_features + continuous_features].values\n",
    "y = df_train_dataset[target_features].values.flatten()\n",
    "print(X.shape, y.shape)"
   ]
  },
  {
   "cell_type": "code",
   "execution_count": 7,
   "metadata": {},
   "outputs": [
    {
     "name": "stdout",
     "output_type": "stream",
     "text": [
      "(287463, 119) (50729, 119) (287463,) (50729,)\n"
     ]
    }
   ],
   "source": [
    "X_train, X_test, y_train, y_test = train_test_split(X, y, train_size=0.85, test_size=0.15, shuffle=True, random_state=10)\n",
    "print(X_train.shape, X_test.shape, y_train.shape, y_test.shape)"
   ]
  },
  {
   "cell_type": "code",
   "execution_count": 8,
   "metadata": {},
   "outputs": [],
   "source": [
    "feature_names = categorical_features + continuous_features\n",
    "X_train_GBM = lgb.Dataset(X_train, label=y_train, feature_name=feature_names, categorical_feature=categorical_features, free_raw_data=False)\n",
    "X_test_GBM = lgb.Dataset(X_test, label=y_test, reference=X_train_GBM, feature_name=feature_names, free_raw_data=False)"
   ]
  },
  {
   "cell_type": "code",
   "execution_count": 15,
   "metadata": {},
   "outputs": [],
   "source": [
    "\"\"\"\n",
    "'learning_rate': hp.uniform('learning_rate', 0.001, 0.04),\n",
    "'max_depth' : hp.quniform(\"max_depth\", 3, 8, 1),\n",
    "'bagging_fraction': hp.uniform('bagging_fraction', 0.85, 1.0),  \n",
    "'bagging_freq': hp.quniform('bagging_freq', 1, 16, 1),\n",
    "'lambda_l1': hp.uniform('lambda_l1', 4.0, 16.0), \n",
    "'lambda_l2': hp.uniform('lambda_l2', 4.0, 16.0),\n",
    "'feature_fraction': hp.uniform('feature_fraction', 0.10, 0.30),\n",
    "'num_leaves': hp.quniform(\"num_leaves\", 4, 64, 1),\n",
    "'min_data_in_leaf': hp.quniform(\"min_data_in_leaf\", 32, 512, 1),\n",
    "'max_delta_step': hp.uniform('max_delta_step', 0.0, 0.5),\n",
    "'min_data_per_group': hp.quniform('min_data_per_group', 16, 512, 1),\n",
    "'min_sum_hessian_in_leaf' : hp.uniform('min_sum_hessian_in_leaf', 0.5, 4.0),\n",
    "'min_gain_to_split': hp.uniform('min_gain_to_split', 0.0, 1.0),\n",
    "'max_bin' : hp.quniform(\"max_bin\", 64, 512, 1),\n",
    "'min_data_in_bin': hp.quniform(\"min_data_in_bin\", 1, 32, 1),\n",
    "'max_cat_threshold': hp.quniform('max_cat_threshold', 16, 64, 1),\n",
    "'cat_l2' : hp.uniform('cat_l2', 32.0, 64.0),\n",
    "'cat_smooth': hp.uniform('cat_smooth', 0.0, 4.0),\n",
    "'sparse_threshold' : hp.uniform('sparse_threshold', 0.16, 0.64),\n",
    "'boost_from_average': hp.choice('boost_from_average', [True, False]),\n",
    "\n",
    "\"\"\"\n",
    "space = {\n",
    "    'learning_rate': hp.uniform('learning_rate', 0.001, 0.04),\n",
    "    'max_depth' : hp.quniform(\"max_depth\", 3, 8, 1),\n",
    "    'bagging_fraction': hp.uniform('bagging_fraction', 0.85, 1.0),  \n",
    "    'bagging_freq': hp.quniform('bagging_freq', 1, 16, 1),\n",
    "    'lambda_l1': hp.uniform('lambda_l1', 4.0, 16.0), \n",
    "    'lambda_l2': hp.uniform('lambda_l2', 4.0, 16.0),\n",
    "    'feature_fraction': hp.uniform('feature_fraction', 0.10, 0.30),\n",
    "    'num_leaves': hp.quniform(\"num_leaves\", 4, 64, 1),\n",
    "    'min_data_in_leaf': hp.quniform(\"min_data_in_leaf\", 32, 512, 1),\n",
    "    'max_delta_step': hp.uniform('max_delta_step', 0.0, 0.5),\n",
    "    'min_data_per_group': hp.quniform('min_data_per_group', 16, 512, 1),\n",
    "    'min_sum_hessian_in_leaf' : hp.uniform('min_sum_hessian_in_leaf', 0.5, 4.0),\n",
    "    'min_gain_to_split': hp.uniform('min_gain_to_split', 0.0, 1.0),\n",
    "    'max_bin' : hp.quniform(\"max_bin\", 64, 512, 1),\n",
    "    'min_data_in_bin': hp.quniform(\"min_data_in_bin\", 1, 32, 1),\n",
    "    'max_cat_threshold': hp.quniform('max_cat_threshold', 16, 64, 1),\n",
    "    'cat_l2' : hp.uniform('cat_l2', 32.0, 128.0),\n",
    "    'cat_smooth': hp.uniform('cat_smooth', 0.0, 4.0),\n",
    "    'sparse_threshold' : hp.uniform('sparse_threshold', 0.16, 0.64),\n",
    "\n",
    "}"
   ]
  },
  {
   "cell_type": "code",
   "execution_count": 16,
   "metadata": {},
   "outputs": [],
   "source": [
    "param_ints = ['max_depth', 'bagging_freq', 'num_leaves', 'min_data_in_leaf', 'min_data_per_group', 'max_bin', \n",
    "              'min_data_in_bin', 'max_cat_threshold']\n",
    "def objective(space):\n",
    "    model_params = {'num_threads': 16, 'objective': 'root_mean_squared_error', \n",
    "                    'metric': ['root_mean_squared_error'], 'boosting': 'gbdt'}\n",
    "    \n",
    "    for param in space.keys():\n",
    "        if param in param_ints:\n",
    "            model_params[param] = int(space[param])\n",
    "        else:\n",
    "            model_params[param] = space[param]\n",
    "        \n",
    "    fit_params = {'verbose_eval': False, 'num_boost_round': 300, 'valid_sets': [X_test_GBM], 'early_stopping_rounds': 30, \n",
    "                 'categorical_feature': categorical_features, 'feature_name': feature_names}\n",
    "    \n",
    "    model = lgb.train(model_params, X_train_GBM, **fit_params)  \n",
    "    y_pred = model.predict(X_test, model.best_iteration)\n",
    "    \n",
    "    results = {'loss': mean_squared_error(y_test, y_pred) ** .5, 'status': STATUS_OK }\n",
    "    for param in space.keys():\n",
    "        results[param] = space[param]\n",
    "    return results"
   ]
  },
  {
   "cell_type": "code",
   "execution_count": 17,
   "metadata": {},
   "outputs": [
    {
     "name": "stdout",
     "output_type": "stream",
     "text": [
      "100%|██████████| 100/100 [12:32<00:00,  7.85s/it, best loss: 0.12259643964754367]\n"
     ]
    }
   ],
   "source": [
    "trials = Trials()\n",
    "best_parameters = fmin(fn=objective, space=space, algo=tpe.suggest, max_evals=100, trials=trials)"
   ]
  },
  {
   "cell_type": "code",
   "execution_count": 18,
   "metadata": {},
   "outputs": [
    {
     "name": "stdout",
     "output_type": "stream",
     "text": [
      "{'bagging_fraction': 0.9830356259765703, 'bagging_freq': 9.0, 'cat_l2': 51.40240661408538, 'cat_smooth': 1.8494002054243066, 'feature_fraction': 0.28058304241318754, 'lambda_l1': 5.388803595258235, 'lambda_l2': 6.868490946655484, 'learning_rate': 0.03578751542869848, 'max_bin': 466.0, 'max_cat_threshold': 39.0, 'max_delta_step': 0.27948550018035967, 'max_depth': 6.0, 'min_data_in_bin': 17.0, 'min_data_in_leaf': 114.0, 'min_data_per_group': 404.0, 'min_gain_to_split': 0.1503709410019914, 'min_sum_hessian_in_leaf': 2.4672279431394806, 'num_leaves': 60.0, 'sparse_threshold': 0.380260196469647}\n"
     ]
    },
    {
     "data": {
      "text/plain": [
       "['models/parameters/best_parameters2.joblib']"
      ]
     },
     "execution_count": 18,
     "metadata": {},
     "output_type": "execute_result"
    }
   ],
   "source": [
    "print(best_parameters)\n",
    "joblib.dump(best_parameters, 'models/parameters/best_parameters2.joblib')"
   ]
  },
  {
   "cell_type": "code",
   "execution_count": 99,
   "metadata": {},
   "outputs": [
    {
     "data": {
      "text/html": [
       "<div>\n",
       "<style scoped>\n",
       "    .dataframe tbody tr th:only-of-type {\n",
       "        vertical-align: middle;\n",
       "    }\n",
       "\n",
       "    .dataframe tbody tr th {\n",
       "        vertical-align: top;\n",
       "    }\n",
       "\n",
       "    .dataframe thead th {\n",
       "        text-align: right;\n",
       "    }\n",
       "</style>\n",
       "<table border=\"1\" class=\"dataframe\">\n",
       "  <thead>\n",
       "    <tr style=\"text-align: right;\">\n",
       "      <th></th>\n",
       "      <th>bagging_fraction</th>\n",
       "      <th>bagging_freq</th>\n",
       "      <th>boost_from_average</th>\n",
       "      <th>cat_l2</th>\n",
       "      <th>cat_smooth</th>\n",
       "      <th>feature_fraction</th>\n",
       "      <th>lambda_l1</th>\n",
       "      <th>lambda_l2</th>\n",
       "      <th>learning_rate</th>\n",
       "      <th>loss</th>\n",
       "      <th>...</th>\n",
       "      <th>max_delta_step</th>\n",
       "      <th>max_depth</th>\n",
       "      <th>min_data_in_bin</th>\n",
       "      <th>min_data_in_leaf</th>\n",
       "      <th>min_data_per_group</th>\n",
       "      <th>min_gain_to_split</th>\n",
       "      <th>min_sum_hessian_in_leaf</th>\n",
       "      <th>num_leaves</th>\n",
       "      <th>sparse_threshold</th>\n",
       "      <th>status</th>\n",
       "    </tr>\n",
       "  </thead>\n",
       "  <tbody>\n",
       "    <tr>\n",
       "      <th>24</th>\n",
       "      <td>0.956319</td>\n",
       "      <td>14.0</td>\n",
       "      <td>True</td>\n",
       "      <td>36.285375</td>\n",
       "      <td>3.968228</td>\n",
       "      <td>0.269915</td>\n",
       "      <td>4.430941</td>\n",
       "      <td>6.032881</td>\n",
       "      <td>0.036590</td>\n",
       "      <td>0.122365</td>\n",
       "      <td>...</td>\n",
       "      <td>0.286282</td>\n",
       "      <td>7.0</td>\n",
       "      <td>24.0</td>\n",
       "      <td>94.0</td>\n",
       "      <td>208.0</td>\n",
       "      <td>0.014238</td>\n",
       "      <td>2.515303</td>\n",
       "      <td>28.0</td>\n",
       "      <td>0.161188</td>\n",
       "      <td>ok</td>\n",
       "    </tr>\n",
       "    <tr>\n",
       "      <th>25</th>\n",
       "      <td>0.958898</td>\n",
       "      <td>14.0</td>\n",
       "      <td>True</td>\n",
       "      <td>37.338306</td>\n",
       "      <td>3.996000</td>\n",
       "      <td>0.292562</td>\n",
       "      <td>7.711478</td>\n",
       "      <td>5.420360</td>\n",
       "      <td>0.036600</td>\n",
       "      <td>0.122481</td>\n",
       "      <td>...</td>\n",
       "      <td>0.467735</td>\n",
       "      <td>7.0</td>\n",
       "      <td>24.0</td>\n",
       "      <td>90.0</td>\n",
       "      <td>194.0</td>\n",
       "      <td>0.001816</td>\n",
       "      <td>2.370192</td>\n",
       "      <td>25.0</td>\n",
       "      <td>0.168208</td>\n",
       "      <td>ok</td>\n",
       "    </tr>\n",
       "    <tr>\n",
       "      <th>21</th>\n",
       "      <td>0.951783</td>\n",
       "      <td>16.0</td>\n",
       "      <td>True</td>\n",
       "      <td>32.003918</td>\n",
       "      <td>3.901894</td>\n",
       "      <td>0.257474</td>\n",
       "      <td>6.889187</td>\n",
       "      <td>4.347178</td>\n",
       "      <td>0.039883</td>\n",
       "      <td>0.122528</td>\n",
       "      <td>...</td>\n",
       "      <td>0.298635</td>\n",
       "      <td>7.0</td>\n",
       "      <td>22.0</td>\n",
       "      <td>41.0</td>\n",
       "      <td>225.0</td>\n",
       "      <td>0.011982</td>\n",
       "      <td>2.619818</td>\n",
       "      <td>55.0</td>\n",
       "      <td>0.160935</td>\n",
       "      <td>ok</td>\n",
       "    </tr>\n",
       "    <tr>\n",
       "      <th>36</th>\n",
       "      <td>0.980093</td>\n",
       "      <td>15.0</td>\n",
       "      <td>True</td>\n",
       "      <td>46.469673</td>\n",
       "      <td>3.618718</td>\n",
       "      <td>0.248205</td>\n",
       "      <td>7.333754</td>\n",
       "      <td>6.166060</td>\n",
       "      <td>0.030026</td>\n",
       "      <td>0.122665</td>\n",
       "      <td>...</td>\n",
       "      <td>0.266047</td>\n",
       "      <td>8.0</td>\n",
       "      <td>5.0</td>\n",
       "      <td>155.0</td>\n",
       "      <td>94.0</td>\n",
       "      <td>0.188792</td>\n",
       "      <td>2.006417</td>\n",
       "      <td>20.0</td>\n",
       "      <td>0.259151</td>\n",
       "      <td>ok</td>\n",
       "    </tr>\n",
       "    <tr>\n",
       "      <th>26</th>\n",
       "      <td>0.986926</td>\n",
       "      <td>14.0</td>\n",
       "      <td>True</td>\n",
       "      <td>37.807435</td>\n",
       "      <td>3.921964</td>\n",
       "      <td>0.296010</td>\n",
       "      <td>10.281893</td>\n",
       "      <td>5.730291</td>\n",
       "      <td>0.036440</td>\n",
       "      <td>0.122711</td>\n",
       "      <td>...</td>\n",
       "      <td>0.474006</td>\n",
       "      <td>6.0</td>\n",
       "      <td>25.0</td>\n",
       "      <td>90.0</td>\n",
       "      <td>147.0</td>\n",
       "      <td>0.071248</td>\n",
       "      <td>1.493297</td>\n",
       "      <td>24.0</td>\n",
       "      <td>0.195474</td>\n",
       "      <td>ok</td>\n",
       "    </tr>\n",
       "    <tr>\n",
       "      <th>27</th>\n",
       "      <td>0.960908</td>\n",
       "      <td>14.0</td>\n",
       "      <td>True</td>\n",
       "      <td>39.313736</td>\n",
       "      <td>2.272155</td>\n",
       "      <td>0.274706</td>\n",
       "      <td>5.308877</td>\n",
       "      <td>5.370593</td>\n",
       "      <td>0.027804</td>\n",
       "      <td>0.122714</td>\n",
       "      <td>...</td>\n",
       "      <td>0.464237</td>\n",
       "      <td>7.0</td>\n",
       "      <td>19.0</td>\n",
       "      <td>89.0</td>\n",
       "      <td>201.0</td>\n",
       "      <td>0.376217</td>\n",
       "      <td>2.336389</td>\n",
       "      <td>31.0</td>\n",
       "      <td>0.160385</td>\n",
       "      <td>ok</td>\n",
       "    </tr>\n",
       "    <tr>\n",
       "      <th>23</th>\n",
       "      <td>0.945661</td>\n",
       "      <td>14.0</td>\n",
       "      <td>True</td>\n",
       "      <td>32.462766</td>\n",
       "      <td>3.354127</td>\n",
       "      <td>0.265939</td>\n",
       "      <td>4.219128</td>\n",
       "      <td>4.175170</td>\n",
       "      <td>0.035380</td>\n",
       "      <td>0.122794</td>\n",
       "      <td>...</td>\n",
       "      <td>0.288622</td>\n",
       "      <td>7.0</td>\n",
       "      <td>21.0</td>\n",
       "      <td>33.0</td>\n",
       "      <td>237.0</td>\n",
       "      <td>0.004057</td>\n",
       "      <td>2.526733</td>\n",
       "      <td>30.0</td>\n",
       "      <td>0.289372</td>\n",
       "      <td>ok</td>\n",
       "    </tr>\n",
       "    <tr>\n",
       "      <th>32</th>\n",
       "      <td>0.987880</td>\n",
       "      <td>15.0</td>\n",
       "      <td>True</td>\n",
       "      <td>42.549699</td>\n",
       "      <td>3.241866</td>\n",
       "      <td>0.292939</td>\n",
       "      <td>5.142206</td>\n",
       "      <td>6.418653</td>\n",
       "      <td>0.038030</td>\n",
       "      <td>0.122847</td>\n",
       "      <td>...</td>\n",
       "      <td>0.350890</td>\n",
       "      <td>6.0</td>\n",
       "      <td>20.0</td>\n",
       "      <td>78.0</td>\n",
       "      <td>120.0</td>\n",
       "      <td>0.530299</td>\n",
       "      <td>2.273805</td>\n",
       "      <td>32.0</td>\n",
       "      <td>0.235947</td>\n",
       "      <td>ok</td>\n",
       "    </tr>\n",
       "    <tr>\n",
       "      <th>38</th>\n",
       "      <td>0.936067</td>\n",
       "      <td>9.0</td>\n",
       "      <td>True</td>\n",
       "      <td>37.050666</td>\n",
       "      <td>3.979062</td>\n",
       "      <td>0.208930</td>\n",
       "      <td>5.939065</td>\n",
       "      <td>6.916768</td>\n",
       "      <td>0.039314</td>\n",
       "      <td>0.122855</td>\n",
       "      <td>...</td>\n",
       "      <td>0.394417</td>\n",
       "      <td>6.0</td>\n",
       "      <td>11.0</td>\n",
       "      <td>324.0</td>\n",
       "      <td>164.0</td>\n",
       "      <td>0.058089</td>\n",
       "      <td>3.412803</td>\n",
       "      <td>40.0</td>\n",
       "      <td>0.203741</td>\n",
       "      <td>ok</td>\n",
       "    </tr>\n",
       "    <tr>\n",
       "      <th>47</th>\n",
       "      <td>0.971596</td>\n",
       "      <td>1.0</td>\n",
       "      <td>True</td>\n",
       "      <td>59.154366</td>\n",
       "      <td>2.516636</td>\n",
       "      <td>0.285642</td>\n",
       "      <td>7.283007</td>\n",
       "      <td>15.849539</td>\n",
       "      <td>0.026032</td>\n",
       "      <td>0.123000</td>\n",
       "      <td>...</td>\n",
       "      <td>0.434820</td>\n",
       "      <td>8.0</td>\n",
       "      <td>16.0</td>\n",
       "      <td>62.0</td>\n",
       "      <td>102.0</td>\n",
       "      <td>0.291578</td>\n",
       "      <td>2.072692</td>\n",
       "      <td>13.0</td>\n",
       "      <td>0.351678</td>\n",
       "      <td>ok</td>\n",
       "    </tr>\n",
       "  </tbody>\n",
       "</table>\n",
       "<p>10 rows × 22 columns</p>\n",
       "</div>"
      ],
      "text/plain": [
       "    bagging_fraction  bagging_freq  boost_from_average     cat_l2  cat_smooth  \\\n",
       "24          0.956319          14.0                True  36.285375    3.968228   \n",
       "25          0.958898          14.0                True  37.338306    3.996000   \n",
       "21          0.951783          16.0                True  32.003918    3.901894   \n",
       "36          0.980093          15.0                True  46.469673    3.618718   \n",
       "26          0.986926          14.0                True  37.807435    3.921964   \n",
       "27          0.960908          14.0                True  39.313736    2.272155   \n",
       "23          0.945661          14.0                True  32.462766    3.354127   \n",
       "32          0.987880          15.0                True  42.549699    3.241866   \n",
       "38          0.936067           9.0                True  37.050666    3.979062   \n",
       "47          0.971596           1.0                True  59.154366    2.516636   \n",
       "\n",
       "    feature_fraction  lambda_l1  lambda_l2  learning_rate      loss  ...  \\\n",
       "24          0.269915   4.430941   6.032881       0.036590  0.122365  ...   \n",
       "25          0.292562   7.711478   5.420360       0.036600  0.122481  ...   \n",
       "21          0.257474   6.889187   4.347178       0.039883  0.122528  ...   \n",
       "36          0.248205   7.333754   6.166060       0.030026  0.122665  ...   \n",
       "26          0.296010  10.281893   5.730291       0.036440  0.122711  ...   \n",
       "27          0.274706   5.308877   5.370593       0.027804  0.122714  ...   \n",
       "23          0.265939   4.219128   4.175170       0.035380  0.122794  ...   \n",
       "32          0.292939   5.142206   6.418653       0.038030  0.122847  ...   \n",
       "38          0.208930   5.939065   6.916768       0.039314  0.122855  ...   \n",
       "47          0.285642   7.283007  15.849539       0.026032  0.123000  ...   \n",
       "\n",
       "    max_delta_step  max_depth  min_data_in_bin  min_data_in_leaf  \\\n",
       "24        0.286282        7.0             24.0              94.0   \n",
       "25        0.467735        7.0             24.0              90.0   \n",
       "21        0.298635        7.0             22.0              41.0   \n",
       "36        0.266047        8.0              5.0             155.0   \n",
       "26        0.474006        6.0             25.0              90.0   \n",
       "27        0.464237        7.0             19.0              89.0   \n",
       "23        0.288622        7.0             21.0              33.0   \n",
       "32        0.350890        6.0             20.0              78.0   \n",
       "38        0.394417        6.0             11.0             324.0   \n",
       "47        0.434820        8.0             16.0              62.0   \n",
       "\n",
       "    min_data_per_group  min_gain_to_split  min_sum_hessian_in_leaf  \\\n",
       "24               208.0           0.014238                 2.515303   \n",
       "25               194.0           0.001816                 2.370192   \n",
       "21               225.0           0.011982                 2.619818   \n",
       "36                94.0           0.188792                 2.006417   \n",
       "26               147.0           0.071248                 1.493297   \n",
       "27               201.0           0.376217                 2.336389   \n",
       "23               237.0           0.004057                 2.526733   \n",
       "32               120.0           0.530299                 2.273805   \n",
       "38               164.0           0.058089                 3.412803   \n",
       "47               102.0           0.291578                 2.072692   \n",
       "\n",
       "    num_leaves  sparse_threshold  status  \n",
       "24        28.0          0.161188      ok  \n",
       "25        25.0          0.168208      ok  \n",
       "21        55.0          0.160935      ok  \n",
       "36        20.0          0.259151      ok  \n",
       "26        24.0          0.195474      ok  \n",
       "27        31.0          0.160385      ok  \n",
       "23        30.0          0.289372      ok  \n",
       "32        32.0          0.235947      ok  \n",
       "38        40.0          0.203741      ok  \n",
       "47        13.0          0.351678      ok  \n",
       "\n",
       "[10 rows x 22 columns]"
      ]
     },
     "execution_count": 99,
     "metadata": {},
     "output_type": "execute_result"
    }
   ],
   "source": [
    "df = pd.DataFrame(trials.results)\n",
    "df.nsmallest(10, 'loss')"
   ]
  },
  {
   "cell_type": "code",
   "execution_count": 90,
   "metadata": {},
   "outputs": [
    {
     "data": {
      "image/png": "[encoded data removed]",
      "text/plain": [
       "<Figure size 432x288 with 1 Axes>"
      ]
     },
     "metadata": {
      "needs_background": "light"
     },
     "output_type": "display_data"
    }
   ],
   "source": [
    "df.plot(x='sparse_threshold', y='loss', kind='scatter');"
   ]
  },
  {
   "cell_type": "code",
   "execution_count": 73,
   "metadata": {},
   "outputs": [
    {
     "data": {
      "image/png": "[encoded data removed]",
      "text/plain": [
       "<Figure size 432x288 with 1 Axes>"
      ]
     },
     "metadata": {
      "needs_background": "light"
     },
     "output_type": "display_data"
    }
   ],
   "source": [
    "df.plot(x='min_data_in_bin', y='loss', kind='scatter');"
   ]
  },
  {
   "cell_type": "code",
   "execution_count": null,
   "metadata": {},
   "outputs": [],
   "source": []
  }
 ],
 "metadata": {
  "kernelspec": {
   "display_name": "Python 3",
   "language": "python",
   "name": "python3"
  },
  "language_info": {
   "codemirror_mode": {
    "name": "ipython",
    "version": 3
   },
   "file_extension": ".py",
   "mimetype": "text/x-python",
   "name": "python",
   "nbconvert_exporter": "python",
   "pygments_lexer": "ipython3",
   "version": "3.6.8"
  }
 },
 "nbformat": 4,
 "nbformat_minor": 2
}
