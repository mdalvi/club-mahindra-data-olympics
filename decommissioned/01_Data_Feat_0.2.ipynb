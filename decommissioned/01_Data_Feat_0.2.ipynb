{
 "cells": [
  {
   "cell_type": "code",
   "execution_count": 1,
   "metadata": {},
   "outputs": [],
   "source": [
    "import os\n",
    "import re\n",
    "import json\n",
    "import time\n",
    "import joblib\n",
    "\n",
    "import numpy as np\n",
    "import pandas as pd\n",
    "\n",
    "import matplotlib.pyplot as plt\n",
    "%matplotlib inline\n",
    "import seaborn as sns\n",
    "sns.set_style(\"whitegrid\", {'axes.grid' : False})\n",
    "import scikitplot as skplt\n",
    "\n",
    "import featuretools as ft\n",
    "\n",
    "from glob import glob\n",
    "from datetime import datetime, date, timedelta\n",
    "from collections import Counter\n",
    "from tqdm import tqdm_notebook\n",
    "\n",
    "from category_encoders import OrdinalEncoder\n",
    "from sklearn.preprocessing import FunctionTransformer\n",
    "\n",
    "from tsfresh import extract_features\n",
    "from tsfresh.utilities.dataframe_functions import impute"
   ]
  },
  {
   "cell_type": "code",
   "execution_count": 2,
   "metadata": {},
   "outputs": [],
   "source": [
    "continuous_features = joblib.load('data/iterables/continuous_features.joblib')\n",
    "categorical_features = joblib.load('data/iterables/categorical_features.joblib')\n",
    "target_features = joblib.load('data/iterables/target_features.joblib')"
   ]
  },
  {
   "cell_type": "code",
   "execution_count": 3,
   "metadata": {},
   "outputs": [
    {
     "data": {
      "text/plain": [
       "(488189, 100)"
      ]
     },
     "execution_count": 3,
     "metadata": {},
     "output_type": "execute_result"
    }
   ],
   "source": [
    "df_all = pd.read_pickle('data/df/df_all.pkl')\n",
    "df_all.shape"
   ]
  },
  {
   "cell_type": "code",
   "execution_count": 4,
   "metadata": {},
   "outputs": [],
   "source": [
    "df_all.reset_index(drop=True, inplace=True)"
   ]
  },
  {
   "cell_type": "code",
   "execution_count": 5,
   "metadata": {},
   "outputs": [],
   "source": [
    "y = df_all.groupby([\"resort_id\"])[\"amount_spent_per_room_night_scaled\"].agg(['mean']).values.flatten()"
   ]
  },
  {
   "cell_type": "code",
   "execution_count": 6,
   "metadata": {},
   "outputs": [],
   "source": [
    "gdf = df_all.groupby([\"resort_id\", \"cat_checkout_date_day\"])[\"total_pax\"].agg([\"max\", \"mean\", \"std\", \"count\", \"skew\"]).reset_index()"
   ]
  },
  {
   "cell_type": "code",
   "execution_count": 7,
   "metadata": {},
   "outputs": [],
   "source": [
    "features_filtered_direct = extract_features(gdf, column_id='resort_id', column_sort='cat_checkout_date_day', disable_progressbar=True)"
   ]
  },
  {
   "cell_type": "code",
   "execution_count": 8,
   "metadata": {},
   "outputs": [
    {
     "name": "stderr",
     "output_type": "stream",
     "text": [
      "WARNING:tsfresh.utilities.dataframe_functions:The columns ['count__agg_linear_trend__f_agg_\"max\"__chunk_len_50__attr_\"intercept\"'\n",
      " 'count__agg_linear_trend__f_agg_\"max\"__chunk_len_50__attr_\"rvalue\"'\n",
      " 'count__agg_linear_trend__f_agg_\"max\"__chunk_len_50__attr_\"slope\"' ...\n",
      " 'std__fft_coefficient__coeff_99__attr_\"angle\"'\n",
      " 'std__fft_coefficient__coeff_99__attr_\"imag\"'\n",
      " 'std__fft_coefficient__coeff_99__attr_\"real\"'] did not have any finite values. Filling with zeros.\n"
     ]
    }
   ],
   "source": [
    "impute(features_filtered_direct);"
   ]
  },
  {
   "cell_type": "code",
   "execution_count": 9,
   "metadata": {},
   "outputs": [],
   "source": [
    "features_drop = [c for c in features_filtered_direct.columns if len(features_filtered_direct[c].unique()) == 1]\n",
    "if features_drop.__len__() > 0:\n",
    "    features_filtered_direct.drop(features_drop, axis=1, inplace=True)"
   ]
  },
  {
   "cell_type": "code",
   "execution_count": 10,
   "metadata": {},
   "outputs": [],
   "source": [
    "features_filtered_direct.reset_index(inplace=True)"
   ]
  },
  {
   "cell_type": "code",
   "execution_count": 11,
   "metadata": {},
   "outputs": [],
   "source": [
    "features_filtered_direct.to_pickle('data/df/features_filtered_direct.pkl')"
   ]
  },
  {
   "cell_type": "code",
   "execution_count": 5,
   "metadata": {},
   "outputs": [],
   "source": [
    "features_filtered_direct = pd.read_pickle('data/df/features_filtered_direct.pkl')"
   ]
  },
  {
   "cell_type": "code",
   "execution_count": 6,
   "metadata": {},
   "outputs": [],
   "source": [
    "df_all = df_all.merge(features_filtered_direct, how='inner', left_on='resort_id', right_on='id')"
   ]
  },
  {
   "cell_type": "code",
   "execution_count": 7,
   "metadata": {},
   "outputs": [
    {
     "data": {
      "text/plain": [
       "(488189, 1810)"
      ]
     },
     "execution_count": 7,
     "metadata": {},
     "output_type": "execute_result"
    }
   ],
   "source": [
    "df_all.shape"
   ]
  },
  {
   "cell_type": "code",
   "execution_count": 8,
   "metadata": {},
   "outputs": [],
   "source": [
    "cont_ft_features = features_filtered_direct.columns.tolist()\n",
    "cont_ft_features.remove('id')"
   ]
  },
  {
   "cell_type": "code",
   "execution_count": 9,
   "metadata": {},
   "outputs": [
    {
     "name": "stdout",
     "output_type": "stream",
     "text": [
      "#36 of categorical features\n",
      "#1767 of continuous features\n"
     ]
    }
   ],
   "source": [
    "categorical_features = categorical_features\n",
    "print(\"#{} of categorical features\".format(categorical_features.__len__()))\n",
    "\n",
    "continuous_features = continuous_features + cont_ft_features\n",
    "print(\"#{} of continuous features\".format(continuous_features.__len__()))"
   ]
  },
  {
   "cell_type": "code",
   "execution_count": 10,
   "metadata": {},
   "outputs": [
    {
     "data": {
      "text/plain": [
       "['data/iterables/continuous_features_with_ft.joblib']"
      ]
     },
     "execution_count": 10,
     "metadata": {},
     "output_type": "execute_result"
    }
   ],
   "source": [
    "joblib.dump(categorical_features, 'data/iterables/categorical_features_with_ft.joblib')\n",
    "joblib.dump(continuous_features, 'data/iterables/continuous_features_with_ft.joblib')"
   ]
  },
  {
   "cell_type": "code",
   "execution_count": 11,
   "metadata": {},
   "outputs": [],
   "source": [
    "df_all.to_pickle('data/df/df_all_with_ft.pkl')"
   ]
  },
  {
   "cell_type": "code",
   "execution_count": null,
   "metadata": {},
   "outputs": [],
   "source": []
  },
  {
   "cell_type": "code",
   "execution_count": null,
   "metadata": {},
   "outputs": [],
   "source": []
  },
  {
   "cell_type": "markdown",
   "metadata": {},
   "source": [
    "## Enter FeatureTools"
   ]
  },
  {
   "cell_type": "code",
   "execution_count": null,
   "metadata": {},
   "outputs": [],
   "source": [
    "entities = [\n",
    "    ('cdd', 'cat_checkout_date_day'),\n",
    "]"
   ]
  },
  {
   "cell_type": "code",
   "execution_count": null,
   "metadata": {},
   "outputs": [],
   "source": [
    "joblib.dump(entities, 'data/iterables/entities.joblib');"
   ]
  },
  {
   "cell_type": "code",
   "execution_count": null,
   "metadata": {},
   "outputs": [],
   "source": [
    "es = ft.EntitySet()\n",
    "for ent, ent_id in entities:\n",
    "    df = pd.DataFrame(df_all[ent_id].unique(), columns=[ent_id])\n",
    "    es = es.entity_from_dataframe(entity_id=ent,dataframe=df, index=ent_id)\n",
    "es.plot()"
   ]
  },
  {
   "cell_type": "code",
   "execution_count": null,
   "metadata": {},
   "outputs": [],
   "source": [
    "cols_feature_target = [c for _, c in entities]\n",
    "cols_feature_target.extend(['total_pax'])"
   ]
  },
  {
   "cell_type": "code",
   "execution_count": null,
   "metadata": {},
   "outputs": [],
   "source": [
    "variable_types = dict()\n",
    "for _, c in entities:\n",
    "    variable_types[c] = ft.variable_types.Categorical\n",
    "\n",
    "variable_types['total_pax'] = ft.variable_types.Numeric"
   ]
  },
  {
   "cell_type": "code",
   "execution_count": null,
   "metadata": {},
   "outputs": [],
   "source": [
    "assert(len(cols_feature_target) == len(variable_types))"
   ]
  },
  {
   "cell_type": "code",
   "execution_count": null,
   "metadata": {},
   "outputs": [],
   "source": [
    "df_all.reset_index(drop=True, inplace=True)\n",
    "df_all['reservation_index'] = df_all.index\n",
    "es = es.entity_from_dataframe(entity_id=\"reservations\", dataframe=df_all[cols_feature_target + ['reservation_index']], index=\"reservation_index\", variable_types=variable_types)\n",
    "es.plot()"
   ]
  },
  {
   "cell_type": "code",
   "execution_count": null,
   "metadata": {},
   "outputs": [],
   "source": [
    "for ent, ent_id in entities:\n",
    "    es = es.add_relationship(ft.Relationship(es[ent][ent_id], es[\"reservations\"][ent_id]))\n",
    "es.plot()"
   ]
  },
  {
   "cell_type": "code",
   "execution_count": null,
   "metadata": {},
   "outputs": [],
   "source": [
    "# es['reservations']['resort_id'].interesting_values = df_all['resort_id'].unique().tolist()"
   ]
  },
  {
   "cell_type": "code",
   "execution_count": null,
   "metadata": {},
   "outputs": [],
   "source": [
    "es"
   ]
  },
  {
   "cell_type": "code",
   "execution_count": null,
   "metadata": {},
   "outputs": [],
   "source": [
    "MAX_DEPTH, N_JOBS = 2, 8\n",
    "agg_primitives = [\"std\", \"max\", \"mean\", \"count\", \"skew\"]\n",
    "where_primitives = []\n",
    "trans_primitives = []\n",
    "\n",
    "cols_f1 = []"
   ]
  },
  {
   "cell_type": "code",
   "execution_count": null,
   "metadata": {},
   "outputs": [],
   "source": [
    "for te, _ in entities:\n",
    "    if not os.path.isdir(os.path.join('data', 'ft', te)):\n",
    "        os.mkdir(os.path.join('data', 'ft', te))\n",
    "        os.mkdir(os.path.join('data', 'ft', te, 'drop'))\n",
    "        os.mkdir(os.path.join('data', 'ft', te, 'use'))\n",
    "        continue\n",
    "    else:\n",
    "        if not os.path.isdir(os.path.join('data', 'ft', te, 'drop')):\n",
    "            os.mkdir(os.path.join('data', 'ft', te, 'drop'))\n",
    "        if not os.path.isdir(os.path.join('data', 'ft', te, 'use')):\n",
    "            os.mkdir(os.path.join('data', 'ft', te, 'use'))"
   ]
  },
  {
   "cell_type": "code",
   "execution_count": null,
   "metadata": {
    "scrolled": true
   },
   "outputs": [],
   "source": [
    "ft_cols = {te : dict() for te, _ in entities}\n",
    "features = {te : dict() for te, _ in entities}\n",
    "for te, te_id in tqdm_notebook(entities):\n",
    "    \n",
    "    ft_cols[te]['id'] = te_id\n",
    "    features[te]['id'] = te_id\n",
    "    \n",
    "    while True:\n",
    "        print(\"Using entities as #{}\".format(te))\n",
    "        \n",
    "        drop_exact = list()\n",
    "        for features_drop_joblib in glob(os.path.join('data', 'ft', te, \"drop\", \"*.joblib\")):\n",
    "            drop_exact.extend(joblib.load(features_drop_joblib))\n",
    "        for features_drop_joblib in glob(os.path.join('data', 'ft', te, \"use\", \"*.joblib\")):\n",
    "            drop_exact.extend(joblib.load(features_drop_joblib))   \n",
    "        \n",
    "        drop_exact = list(set(drop_exact))\n",
    "        print(\"Dropping #{} exact features\".format(drop_exact.__len__()))\n",
    "\n",
    "        try:\n",
    "            features[te]['features'], features[te]['defs'] = ft.dfs(entityset=es, target_entity=te, agg_primitives=agg_primitives, where_primitives=where_primitives, \n",
    "                                    trans_primitives=trans_primitives, max_depth=MAX_DEPTH, n_jobs=N_JOBS, verbose=True, \n",
    "                                    drop_exact=drop_exact, max_features=-1)\n",
    "        except AssertionError as ex:\n",
    "            print(\"AssertionError @{}\".format(repr(ex)))\n",
    "            break\n",
    "        except Exception as ex:\n",
    "            print(\"Exception @{}\".format(repr(ex)))\n",
    "            continue\n",
    "\n",
    "        # always break\n",
    "        break_out = True\n",
    "        if features[te]['features'].shape[1] < 512:\n",
    "            break_out = True\n",
    "            \n",
    "        # joblib all single values\n",
    "        features[te]['features'].fillna(0.0, inplace=True)\n",
    "        features_drop = [c for c in features[te]['features'].columns if len(features[te]['features'][c].unique()) == 1]\n",
    "        if features_drop.__len__() > 0:\n",
    "            joblib.dump(features_drop, os.path.join('data', \"ft\", te, \"drop\", \"single_features_drop_{}.joblib\".format(datetime.now().strftime(\"%Y%m%d%H%M%S\"))))\n",
    "            features[te]['features'].drop(features_drop, axis=1, inplace=True)\n",
    "\n",
    "        cat_ft =  [c1 for c1 in features[te]['features'].columns if any([c2 for c2 in cols_f1 if c2 in c1])]\n",
    "        cont_ft = [c for c in features[te]['features'].columns if c not in cat_ft] \n",
    "\n",
    "        print(\"\\nIdentified #{} categorical and #{} continuous features\".format(cat_ft.__len__(), cont_ft.__len__()))\n",
    "\n",
    "        ft_cols[te]['categorical_features'] = cat_ft\n",
    "        ft_cols[te]['continuous_features'] = cont_ft\n",
    "    \n",
    "        features[te]['features'].columns = [\"{}_{}\".format(c, te) for c in features[te]['features'].columns]\n",
    "        \n",
    "        cat_ft_new = [c1 for c1 in features[te]['features'].columns if any([c2 for c2 in cols_f1 if c2 in c1])]\n",
    "        cont_ft_new = [c for c in features[te]['features'].columns if c not in cat_ft_new]\n",
    "        \n",
    "        features[te]['categorical_features'] = cat_ft_new\n",
    "        features[te]['continuous_features'] =  cont_ft_new\n",
    "    \n",
    "        if break_out:\n",
    "            break"
   ]
  },
  {
   "cell_type": "code",
   "execution_count": null,
   "metadata": {},
   "outputs": [],
   "source": [
    "# joblib.dump([c.replace('_rid', '') for c in features['rid']['features'].columns if 'COUNT(reservations WHERE resort_id' in c], 'data/ft/rid/drop/drop1.joblib')"
   ]
  },
  {
   "cell_type": "code",
   "execution_count": null,
   "metadata": {
    "scrolled": true
   },
   "outputs": [],
   "source": [
    "features[te]['features'].reset_index(inplace=True)"
   ]
  },
  {
   "cell_type": "code",
   "execution_count": null,
   "metadata": {},
   "outputs": [],
   "source": [
    "features[te]['features']['bias'] = 1"
   ]
  },
  {
   "cell_type": "code",
   "execution_count": 4,
   "metadata": {},
   "outputs": [
    {
     "ename": "NameError",
     "evalue": "name 'features' is not defined",
     "output_type": "error",
     "traceback": [
      "\u001b[0;31m---------------------------------------------------------------------------\u001b[0m",
      "\u001b[0;31mNameError\u001b[0m                                 Traceback (most recent call last)",
      "\u001b[0;32m<ipython-input-4-74cf005bb57d>\u001b[0m in \u001b[0;36m<module>\u001b[0;34m\u001b[0m\n\u001b[1;32m      1\u001b[0m \u001b[0;32mfrom\u001b[0m \u001b[0mtsfresh\u001b[0m \u001b[0;32mimport\u001b[0m \u001b[0mextract_features\u001b[0m\u001b[0;34m\u001b[0m\u001b[0;34m\u001b[0m\u001b[0m\n\u001b[0;32m----> 2\u001b[0;31m \u001b[0mextracted_features\u001b[0m \u001b[0;34m=\u001b[0m \u001b[0mextract_features\u001b[0m\u001b[0;34m(\u001b[0m\u001b[0mfeatures\u001b[0m\u001b[0;34m[\u001b[0m\u001b[0mte\u001b[0m\u001b[0;34m]\u001b[0m\u001b[0;34m[\u001b[0m\u001b[0;34m'features'\u001b[0m\u001b[0;34m]\u001b[0m\u001b[0;34m,\u001b[0m \u001b[0mcolumn_id\u001b[0m\u001b[0;34m=\u001b[0m\u001b[0;34m\"bias\"\u001b[0m\u001b[0;34m,\u001b[0m \u001b[0mcolumn_sort\u001b[0m\u001b[0;34m=\u001b[0m\u001b[0;34m\"cat_checkout_date_day\"\u001b[0m\u001b[0;34m)\u001b[0m\u001b[0;34m\u001b[0m\u001b[0;34m\u001b[0m\u001b[0m\n\u001b[0m",
      "\u001b[0;31mNameError\u001b[0m: name 'features' is not defined"
     ]
    }
   ],
   "source": [
    "from tsfresh import extract_features\n",
    "extracted_features = extract_features(features[te]['features'], column_id=\"bias\", column_sort=\"cat_checkout_date_day\")"
   ]
  },
  {
   "cell_type": "code",
   "execution_count": 25,
   "metadata": {},
   "outputs": [
    {
     "name": "stdout",
     "output_type": "stream",
     "text": [
      "<class 'pandas.core.frame.DataFrame'>\n",
      "RangeIndex: 31 entries, 0 to 30\n",
      "Data columns (total 7 columns):\n",
      "cat_checkout_date_day               31 non-null int64\n",
      "STD(reservations.total_pax)_cdd     31 non-null float64\n",
      "MAX(reservations.total_pax)_cdd     31 non-null int64\n",
      "MEAN(reservations.total_pax)_cdd    31 non-null float64\n",
      "COUNT(reservations)_cdd             31 non-null int64\n",
      "SKEW(reservations.total_pax)_cdd    31 non-null float64\n",
      "bias                                31 non-null int64\n",
      "dtypes: float64(3), int64(4)\n",
      "memory usage: 1.8 KB\n"
     ]
    }
   ],
   "source": [
    "features[te]['features'].info()"
   ]
  },
  {
   "cell_type": "code",
   "execution_count": null,
   "metadata": {},
   "outputs": [],
   "source": []
  },
  {
   "cell_type": "code",
   "execution_count": null,
   "metadata": {},
   "outputs": [],
   "source": []
  },
  {
   "cell_type": "code",
   "execution_count": null,
   "metadata": {},
   "outputs": [],
   "source": []
  },
  {
   "cell_type": "code",
   "execution_count": 119,
   "metadata": {},
   "outputs": [
    {
     "data": {
      "text/plain": [
       "<matplotlib.axes._subplots.AxesSubplot at 0x7f5ed3eade80>"
      ]
     },
     "execution_count": 119,
     "metadata": {},
     "output_type": "execute_result"
    },
    {
     "data": {
      "image/png": "[encoded data removed]",
      "text/plain": [
       "<Figure size 432x288 with 1 Axes>"
      ]
     },
     "metadata": {},
     "output_type": "display_data"
    }
   ],
   "source": [
    "features[te]['features']['SKEW(reservations.total_pax)_cdd'].plot()"
   ]
  },
  {
   "cell_type": "code",
   "execution_count": 120,
   "metadata": {},
   "outputs": [
    {
     "data": {
      "text/plain": [
       "<matplotlib.axes._subplots.AxesSubplot at 0x7f5ed3969550>"
      ]
     },
     "execution_count": 120,
     "metadata": {},
     "output_type": "execute_result"
    },
    {
     "data": {
      "image/png": "[encoded data removed]",
      "text/plain": [
       "<Figure size 432x288 with 1 Axes>"
      ]
     },
     "metadata": {},
     "output_type": "display_data"
    }
   ],
   "source": [
    "features[te]['features']['STD(reservations.total_pax)_cdd'].plot()"
   ]
  },
  {
   "cell_type": "code",
   "execution_count": 121,
   "metadata": {},
   "outputs": [
    {
     "data": {
      "text/plain": [
       "<matplotlib.axes._subplots.AxesSubplot at 0x7f5ed3ef9978>"
      ]
     },
     "execution_count": 121,
     "metadata": {},
     "output_type": "execute_result"
    },
    {
     "data": {
      "image/png": "[encoded data removed]",
      "text/plain": [
       "<Figure size 432x288 with 1 Axes>"
      ]
     },
     "metadata": {},
     "output_type": "display_data"
    }
   ],
   "source": [
    "features[te]['features']['MAX(reservations.total_pax)_cdd'].plot()"
   ]
  },
  {
   "cell_type": "code",
   "execution_count": 122,
   "metadata": {},
   "outputs": [
    {
     "data": {
      "text/plain": [
       "<matplotlib.axes._subplots.AxesSubplot at 0x7f5ed2c92550>"
      ]
     },
     "execution_count": 122,
     "metadata": {},
     "output_type": "execute_result"
    },
    {
     "data": {
      "image/png": "[encoded data removed]",
      "text/plain": [
       "<Figure size 432x288 with 1 Axes>"
      ]
     },
     "metadata": {},
     "output_type": "display_data"
    }
   ],
   "source": [
    "features[te]['features']['MEAN(reservations.total_pax)_cdd'].plot()"
   ]
  },
  {
   "cell_type": "code",
   "execution_count": 123,
   "metadata": {},
   "outputs": [
    {
     "data": {
      "text/plain": [
       "<matplotlib.axes._subplots.AxesSubplot at 0x7f5ed2a8c278>"
      ]
     },
     "execution_count": 123,
     "metadata": {},
     "output_type": "execute_result"
    },
    {
     "data": {
      "image/png": "[encoded data removed]",
      "text/plain": [
       "<Figure size 432x288 with 1 Axes>"
      ]
     },
     "metadata": {},
     "output_type": "display_data"
    }
   ],
   "source": [
    "features[te]['features']['COUNT(reservations)_cdd'].plot()"
   ]
  },
  {
   "cell_type": "code",
   "execution_count": null,
   "metadata": {},
   "outputs": [],
   "source": []
  },
  {
   "cell_type": "code",
   "execution_count": null,
   "metadata": {},
   "outputs": [],
   "source": []
  },
  {
   "cell_type": "code",
   "execution_count": 56,
   "metadata": {},
   "outputs": [],
   "source": [
    "joblib.dump(ft_cols, 'data/iterables/ft_cols.joblib');"
   ]
  },
  {
   "cell_type": "code",
   "execution_count": 22,
   "metadata": {},
   "outputs": [
    {
     "data": {
      "application/vnd.jupyter.widget-view+json": {
       "model_id": "7db0c1d799754be89f8e94492497f703",
       "version_major": 2,
       "version_minor": 0
      },
      "text/plain": [
       "HBox(children=(IntProgress(value=0, max=5), HTML(value='')))"
      ]
     },
     "metadata": {},
     "output_type": "display_data"
    },
    {
     "name": "stdout",
     "output_type": "stream",
     "text": [
      "\n"
     ]
    }
   ],
   "source": [
    "cat_ft_features, cont_ft_features = list(), list()\n",
    "for te, te_features in tqdm_notebook(features.items()):\n",
    "    cat_ft_features.extend(te_features['categorical_features'])\n",
    "    cont_ft_features.extend(te_features['continuous_features'])\n",
    "    \n",
    "    ft.save_features(te_features['defs'], \"data/ft/{}.ft\".format(te))"
   ]
  },
  {
   "cell_type": "code",
   "execution_count": 23,
   "metadata": {},
   "outputs": [],
   "source": [
    "joblib.dump(cat_ft_features, 'data/iterables/cat_ft_features.joblib')\n",
    "joblib.dump(cont_ft_features, 'data/iterables/cont_ft_features.joblib');"
   ]
  },
  {
   "cell_type": "markdown",
   "metadata": {},
   "source": [
    "## Appending features"
   ]
  },
  {
   "cell_type": "code",
   "execution_count": 24,
   "metadata": {},
   "outputs": [
    {
     "name": "stdout",
     "output_type": "stream",
     "text": [
      "(488189, 69)\n"
     ]
    }
   ],
   "source": [
    "df_dataset = df_all.copy()\n",
    "print(df_dataset.shape)"
   ]
  },
  {
   "cell_type": "code",
   "execution_count": 25,
   "metadata": {},
   "outputs": [
    {
     "data": {
      "text/html": [
       "<div>\n",
       "<style scoped>\n",
       "    .dataframe tbody tr th:only-of-type {\n",
       "        vertical-align: middle;\n",
       "    }\n",
       "\n",
       "    .dataframe tbody tr th {\n",
       "        vertical-align: top;\n",
       "    }\n",
       "\n",
       "    .dataframe thead th {\n",
       "        text-align: right;\n",
       "    }\n",
       "</style>\n",
       "<table border=\"1\" class=\"dataframe\">\n",
       "  <thead>\n",
       "    <tr style=\"text-align: right;\">\n",
       "      <th></th>\n",
       "      <th>reservation_id</th>\n",
       "      <th>booking_date</th>\n",
       "      <th>checkin_date</th>\n",
       "      <th>checkout_date</th>\n",
       "      <th>channel_code</th>\n",
       "      <th>main_product_code</th>\n",
       "      <th>numberofadults</th>\n",
       "      <th>numberofchildren</th>\n",
       "      <th>persontravellingid</th>\n",
       "      <th>resort_region_code</th>\n",
       "      <th>...</th>\n",
       "      <th>cont_we_wd</th>\n",
       "      <th>cont_sp_noc</th>\n",
       "      <th>cont_sp_noa</th>\n",
       "      <th>cont_sp_fc</th>\n",
       "      <th>cont_sp_fd</th>\n",
       "      <th>cont_snd_noc</th>\n",
       "      <th>cont_snd_noa</th>\n",
       "      <th>cont_snd_fc</th>\n",
       "      <th>cont_snd_fd</th>\n",
       "      <th>reservation_index</th>\n",
       "    </tr>\n",
       "  </thead>\n",
       "  <tbody>\n",
       "    <tr>\n",
       "      <th>0</th>\n",
       "      <td>07659f3758d8aee27f5a7e2887adeacb67021cb95ada1b...</td>\n",
       "      <td>2018-04-05</td>\n",
       "      <td>2018-04-05</td>\n",
       "      <td>2018-04-06</td>\n",
       "      <td>0</td>\n",
       "      <td>0</td>\n",
       "      <td>2</td>\n",
       "      <td>0</td>\n",
       "      <td>0</td>\n",
       "      <td>0</td>\n",
       "      <td>...</td>\n",
       "      <td>0.000000</td>\n",
       "      <td>0.0</td>\n",
       "      <td>0.5</td>\n",
       "      <td>0.50</td>\n",
       "      <td>0.000000</td>\n",
       "      <td>0.0</td>\n",
       "      <td>0.0</td>\n",
       "      <td>0.0</td>\n",
       "      <td>0.0</td>\n",
       "      <td>0</td>\n",
       "    </tr>\n",
       "    <tr>\n",
       "      <th>1</th>\n",
       "      <td>03930f033646d073462b35d411616323597715ac4fc398...</td>\n",
       "      <td>2015-01-23</td>\n",
       "      <td>2015-04-11</td>\n",
       "      <td>2015-04-16</td>\n",
       "      <td>1</td>\n",
       "      <td>0</td>\n",
       "      <td>2</td>\n",
       "      <td>0</td>\n",
       "      <td>0</td>\n",
       "      <td>0</td>\n",
       "      <td>...</td>\n",
       "      <td>0.250000</td>\n",
       "      <td>0.0</td>\n",
       "      <td>2.5</td>\n",
       "      <td>2.50</td>\n",
       "      <td>0.064103</td>\n",
       "      <td>0.0</td>\n",
       "      <td>0.0</td>\n",
       "      <td>0.0</td>\n",
       "      <td>0.0</td>\n",
       "      <td>1</td>\n",
       "    </tr>\n",
       "    <tr>\n",
       "      <th>2</th>\n",
       "      <td>d145a32920e6587ad95bfe299d80c0affa268220535aaf...</td>\n",
       "      <td>2015-01-28</td>\n",
       "      <td>2015-02-01</td>\n",
       "      <td>2015-02-05</td>\n",
       "      <td>1</td>\n",
       "      <td>0</td>\n",
       "      <td>2</td>\n",
       "      <td>0</td>\n",
       "      <td>1</td>\n",
       "      <td>1</td>\n",
       "      <td>...</td>\n",
       "      <td>0.000000</td>\n",
       "      <td>0.0</td>\n",
       "      <td>2.0</td>\n",
       "      <td>2.00</td>\n",
       "      <td>1.000000</td>\n",
       "      <td>0.0</td>\n",
       "      <td>0.0</td>\n",
       "      <td>0.0</td>\n",
       "      <td>0.0</td>\n",
       "      <td>2</td>\n",
       "    </tr>\n",
       "    <tr>\n",
       "      <th>3</th>\n",
       "      <td>cfd77f44811ed62f25a220b53324cdbafc662a4c9e5f04...</td>\n",
       "      <td>2015-05-02</td>\n",
       "      <td>2015-06-11</td>\n",
       "      <td>2015-06-16</td>\n",
       "      <td>1</td>\n",
       "      <td>0</td>\n",
       "      <td>2</td>\n",
       "      <td>2</td>\n",
       "      <td>0</td>\n",
       "      <td>2</td>\n",
       "      <td>...</td>\n",
       "      <td>0.666667</td>\n",
       "      <td>2.5</td>\n",
       "      <td>2.5</td>\n",
       "      <td>1.25</td>\n",
       "      <td>0.125000</td>\n",
       "      <td>0.0</td>\n",
       "      <td>0.0</td>\n",
       "      <td>0.0</td>\n",
       "      <td>0.0</td>\n",
       "      <td>3</td>\n",
       "    </tr>\n",
       "    <tr>\n",
       "      <th>4</th>\n",
       "      <td>937cff9e4dcfc2459620153dfc8b9962ac22bea67dfb29...</td>\n",
       "      <td>2015-09-02</td>\n",
       "      <td>2015-12-14</td>\n",
       "      <td>2015-12-19</td>\n",
       "      <td>1</td>\n",
       "      <td>0</td>\n",
       "      <td>2</td>\n",
       "      <td>0</td>\n",
       "      <td>0</td>\n",
       "      <td>2</td>\n",
       "      <td>...</td>\n",
       "      <td>0.250000</td>\n",
       "      <td>0.0</td>\n",
       "      <td>2.5</td>\n",
       "      <td>2.50</td>\n",
       "      <td>0.048544</td>\n",
       "      <td>0.0</td>\n",
       "      <td>0.0</td>\n",
       "      <td>0.0</td>\n",
       "      <td>0.0</td>\n",
       "      <td>4</td>\n",
       "    </tr>\n",
       "  </tbody>\n",
       "</table>\n",
       "<p>5 rows × 69 columns</p>\n",
       "</div>"
      ],
      "text/plain": [
       "                                      reservation_id booking_date  \\\n",
       "0  07659f3758d8aee27f5a7e2887adeacb67021cb95ada1b...   2018-04-05   \n",
       "1  03930f033646d073462b35d411616323597715ac4fc398...   2015-01-23   \n",
       "2  d145a32920e6587ad95bfe299d80c0affa268220535aaf...   2015-01-28   \n",
       "3  cfd77f44811ed62f25a220b53324cdbafc662a4c9e5f04...   2015-05-02   \n",
       "4  937cff9e4dcfc2459620153dfc8b9962ac22bea67dfb29...   2015-09-02   \n",
       "\n",
       "  checkin_date checkout_date  channel_code  main_product_code  numberofadults  \\\n",
       "0   2018-04-05    2018-04-06             0                  0               2   \n",
       "1   2015-04-11    2015-04-16             1                  0               2   \n",
       "2   2015-02-01    2015-02-05             1                  0               2   \n",
       "3   2015-06-11    2015-06-16             1                  0               2   \n",
       "4   2015-12-14    2015-12-19             1                  0               2   \n",
       "\n",
       "   numberofchildren  persontravellingid  resort_region_code  ...  cont_we_wd  \\\n",
       "0                 0                   0                   0  ...    0.000000   \n",
       "1                 0                   0                   0  ...    0.250000   \n",
       "2                 0                   1                   1  ...    0.000000   \n",
       "3                 2                   0                   2  ...    0.666667   \n",
       "4                 0                   0                   2  ...    0.250000   \n",
       "\n",
       "   cont_sp_noc  cont_sp_noa  cont_sp_fc  cont_sp_fd  cont_snd_noc  \\\n",
       "0          0.0          0.5        0.50    0.000000           0.0   \n",
       "1          0.0          2.5        2.50    0.064103           0.0   \n",
       "2          0.0          2.0        2.00    1.000000           0.0   \n",
       "3          2.5          2.5        1.25    0.125000           0.0   \n",
       "4          0.0          2.5        2.50    0.048544           0.0   \n",
       "\n",
       "   cont_snd_noa  cont_snd_fc  cont_snd_fd  reservation_index  \n",
       "0           0.0          0.0          0.0                  0  \n",
       "1           0.0          0.0          0.0                  1  \n",
       "2           0.0          0.0          0.0                  2  \n",
       "3           0.0          0.0          0.0                  3  \n",
       "4           0.0          0.0          0.0                  4  \n",
       "\n",
       "[5 rows x 69 columns]"
      ]
     },
     "execution_count": 25,
     "metadata": {},
     "output_type": "execute_result"
    }
   ],
   "source": [
    "df_dataset.head()"
   ]
  },
  {
   "cell_type": "code",
   "execution_count": 26,
   "metadata": {},
   "outputs": [
    {
     "name": "stdout",
     "output_type": "stream",
     "text": [
      "#36 of categorical features\n",
      "#125 of continuous features\n"
     ]
    }
   ],
   "source": [
    "categorical_features = categorical_features + cat_ft_features\n",
    "print(\"#{} of categorical features\".format(categorical_features.__len__()))\n",
    "\n",
    "continuous_features = continuous_features + cont_ft_features\n",
    "print(\"#{} of continuous features\".format(continuous_features.__len__()))"
   ]
  },
  {
   "cell_type": "code",
   "execution_count": 27,
   "metadata": {},
   "outputs": [
    {
     "data": {
      "text/plain": [
       "['data/iterables/continuous_features_with_ft.joblib']"
      ]
     },
     "execution_count": 27,
     "metadata": {},
     "output_type": "execute_result"
    }
   ],
   "source": [
    "joblib.dump(categorical_features, 'data/iterables/categorical_features_with_ft.joblib')\n",
    "joblib.dump(continuous_features, 'data/iterables/continuous_features_with_ft.joblib')"
   ]
  },
  {
   "cell_type": "code",
   "execution_count": 28,
   "metadata": {},
   "outputs": [
    {
     "data": {
      "application/vnd.jupyter.widget-view+json": {
       "model_id": "c0651f876f574bc38f527c577c230474",
       "version_major": 2,
       "version_minor": 0
      },
      "text/plain": [
       "HBox(children=(IntProgress(value=0, max=5), HTML(value='')))"
      ]
     },
     "metadata": {},
     "output_type": "display_data"
    },
    {
     "name": "stderr",
     "output_type": "stream",
     "text": [
      "distributed.core - INFO - Event loop was unresponsive in Nanny for 3.42s.  This is often caused by long-running GIL-holding functions or moving large chunks of data. This can cause timeouts and instability.\n",
      "distributed.core - INFO - Event loop was unresponsive in Nanny for 4.45s.  This is often caused by long-running GIL-holding functions or moving large chunks of data. This can cause timeouts and instability.\n",
      "distributed.core - INFO - Event loop was unresponsive in Nanny for 4.46s.  This is often caused by long-running GIL-holding functions or moving large chunks of data. This can cause timeouts and instability.\n",
      "distributed.core - INFO - Event loop was unresponsive in Nanny for 4.60s.  This is often caused by long-running GIL-holding functions or moving large chunks of data. This can cause timeouts and instability.\n",
      "distributed.core - INFO - Event loop was unresponsive in Nanny for 4.80s.  This is often caused by long-running GIL-holding functions or moving large chunks of data. This can cause timeouts and instability.\n",
      "distributed.core - INFO - Event loop was unresponsive in Nanny for 4.79s.  This is often caused by long-running GIL-holding functions or moving large chunks of data. This can cause timeouts and instability.\n"
     ]
    },
    {
     "name": "stdout",
     "output_type": "stream",
     "text": [
      "\n"
     ]
    },
    {
     "name": "stderr",
     "output_type": "stream",
     "text": [
      "distributed.core - INFO - Event loop was unresponsive in Nanny for 4.73s.  This is often caused by long-running GIL-holding functions or moving large chunks of data. This can cause timeouts and instability.\n"
     ]
    }
   ],
   "source": [
    "for te, te_features in tqdm_notebook(features.items()):\n",
    "    df_dataset = df_dataset.set_index(te_features['id']).join(te_features['features'], how='inner')\n",
    "    df_dataset.reset_index(inplace=True)"
   ]
  },
  {
   "cell_type": "code",
   "execution_count": 29,
   "metadata": {},
   "outputs": [
    {
     "name": "stdout",
     "output_type": "stream",
     "text": [
      "(488189, 168)\n"
     ]
    }
   ],
   "source": [
    "print(df_dataset.shape)"
   ]
  },
  {
   "cell_type": "code",
   "execution_count": 30,
   "metadata": {},
   "outputs": [],
   "source": [
    "df_dataset.to_pickle('data/df/df_all_with_ft.pkl')"
   ]
  },
  {
   "cell_type": "code",
   "execution_count": null,
   "metadata": {},
   "outputs": [],
   "source": []
  }
 ],
 "metadata": {
  "kernelspec": {
   "display_name": "Python 3",
   "language": "python",
   "name": "python3"
  },
  "language_info": {
   "codemirror_mode": {
    "name": "ipython",
    "version": 3
   },
   "file_extension": ".py",
   "mimetype": "text/x-python",
   "name": "python",
   "nbconvert_exporter": "python",
   "pygments_lexer": "ipython3",
   "version": "3.6.8"
  }
 },
 "nbformat": 4,
 "nbformat_minor": 2
}
