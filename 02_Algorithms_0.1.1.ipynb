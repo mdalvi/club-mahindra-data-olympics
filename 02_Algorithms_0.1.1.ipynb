{
 "cells": [
  {
   "cell_type": "markdown",
   "metadata": {},
   "source": [
    "# 1+p Log Transformation To Target and Binary Encoding (if required)"
   ]
  },
  {
   "cell_type": "code",
   "execution_count": 37,
   "metadata": {},
   "outputs": [],
   "source": [
    "import os\n",
    "\n",
    "import numpy as np\n",
    "import pandas as pd\n",
    "\n",
    "import joblib\n",
    "\n",
    "from category_encoders import BinaryEncoder\n",
    "from sklearn.preprocessing import FunctionTransformer"
   ]
  },
  {
   "cell_type": "code",
   "execution_count": 39,
   "metadata": {},
   "outputs": [],
   "source": [
    "df_all = pd.read_pickle('data/df/df_all.pkl')"
   ]
  },
  {
   "cell_type": "code",
   "execution_count": 40,
   "metadata": {},
   "outputs": [],
   "source": [
    "continuous_features = joblib.load('data/iterables/continuous_features.joblib')\n",
    "categorical_features = joblib.load('data/iterables/categorical_features.joblib')\n",
    "target_features = joblib.load('data/iterables/target_features.joblib')"
   ]
  },
  {
   "cell_type": "markdown",
   "metadata": {},
   "source": [
    "### Execute below if you need data for algorithms that don't support categorical variables\n",
    "### ============================================================================"
   ]
  },
  {
   "cell_type": "code",
   "execution_count": 23,
   "metadata": {},
   "outputs": [],
   "source": [
    "be = BinaryEncoder(cols=categorical_features, return_df=True, handle_unknown='ignore')\n",
    "df_encoded = be.fit_transform(df_all[categorical_features])"
   ]
  },
  {
   "cell_type": "code",
   "execution_count": 24,
   "metadata": {},
   "outputs": [
    {
     "data": {
      "text/plain": [
       "['models/preprocessing/be.joblib']"
      ]
     },
     "execution_count": 24,
     "metadata": {},
     "output_type": "execute_result"
    }
   ],
   "source": [
    "joblib.dump(be, 'models/preprocessing/be.joblib')"
   ]
  },
  {
   "cell_type": "code",
   "execution_count": 25,
   "metadata": {},
   "outputs": [
    {
     "data": {
      "text/html": [
       "<div>\n",
       "<style scoped>\n",
       "    .dataframe tbody tr th:only-of-type {\n",
       "        vertical-align: middle;\n",
       "    }\n",
       "\n",
       "    .dataframe tbody tr th {\n",
       "        vertical-align: top;\n",
       "    }\n",
       "\n",
       "    .dataframe thead th {\n",
       "        text-align: right;\n",
       "    }\n",
       "</style>\n",
       "<table border=\"1\" class=\"dataframe\">\n",
       "  <thead>\n",
       "    <tr style=\"text-align: right;\">\n",
       "      <th></th>\n",
       "      <th>cat_cf_is_cluster_changed_0</th>\n",
       "      <th>cat_cf_is_cluster_changed_1</th>\n",
       "      <th>cat_cf_is_resort_region_changed_0</th>\n",
       "      <th>cat_cf_is_resort_region_changed_1</th>\n",
       "      <th>cat_checkin_date_is_weekend_0</th>\n",
       "      <th>cat_checkin_date_is_weekend_1</th>\n",
       "      <th>cat_cf_is_room_type_booked_changed_0</th>\n",
       "      <th>cat_cf_is_room_type_booked_changed_1</th>\n",
       "      <th>cat_booking_date_month_0</th>\n",
       "      <th>cat_booking_date_month_1</th>\n",
       "      <th>...</th>\n",
       "      <th>cat_checkin_date_day_0</th>\n",
       "      <th>cat_checkin_date_day_1</th>\n",
       "      <th>cat_checkin_date_day_2</th>\n",
       "      <th>cat_checkin_date_day_3</th>\n",
       "      <th>cat_checkin_date_day_4</th>\n",
       "      <th>cat_checkin_date_day_5</th>\n",
       "      <th>cluster_code_0</th>\n",
       "      <th>cluster_code_1</th>\n",
       "      <th>cluster_code_2</th>\n",
       "      <th>cluster_code_3</th>\n",
       "    </tr>\n",
       "  </thead>\n",
       "  <tbody>\n",
       "    <tr>\n",
       "      <th>0</th>\n",
       "      <td>0</td>\n",
       "      <td>1</td>\n",
       "      <td>0</td>\n",
       "      <td>1</td>\n",
       "      <td>0</td>\n",
       "      <td>1</td>\n",
       "      <td>0</td>\n",
       "      <td>1</td>\n",
       "      <td>0</td>\n",
       "      <td>0</td>\n",
       "      <td>...</td>\n",
       "      <td>0</td>\n",
       "      <td>0</td>\n",
       "      <td>0</td>\n",
       "      <td>0</td>\n",
       "      <td>0</td>\n",
       "      <td>1</td>\n",
       "      <td>0</td>\n",
       "      <td>0</td>\n",
       "      <td>0</td>\n",
       "      <td>1</td>\n",
       "    </tr>\n",
       "    <tr>\n",
       "      <th>1</th>\n",
       "      <td>0</td>\n",
       "      <td>1</td>\n",
       "      <td>1</td>\n",
       "      <td>0</td>\n",
       "      <td>1</td>\n",
       "      <td>0</td>\n",
       "      <td>0</td>\n",
       "      <td>1</td>\n",
       "      <td>0</td>\n",
       "      <td>0</td>\n",
       "      <td>...</td>\n",
       "      <td>0</td>\n",
       "      <td>0</td>\n",
       "      <td>0</td>\n",
       "      <td>0</td>\n",
       "      <td>1</td>\n",
       "      <td>0</td>\n",
       "      <td>0</td>\n",
       "      <td>0</td>\n",
       "      <td>0</td>\n",
       "      <td>1</td>\n",
       "    </tr>\n",
       "    <tr>\n",
       "      <th>2</th>\n",
       "      <td>0</td>\n",
       "      <td>1</td>\n",
       "      <td>1</td>\n",
       "      <td>0</td>\n",
       "      <td>1</td>\n",
       "      <td>0</td>\n",
       "      <td>1</td>\n",
       "      <td>0</td>\n",
       "      <td>0</td>\n",
       "      <td>0</td>\n",
       "      <td>...</td>\n",
       "      <td>0</td>\n",
       "      <td>0</td>\n",
       "      <td>0</td>\n",
       "      <td>0</td>\n",
       "      <td>1</td>\n",
       "      <td>1</td>\n",
       "      <td>0</td>\n",
       "      <td>0</td>\n",
       "      <td>1</td>\n",
       "      <td>0</td>\n",
       "    </tr>\n",
       "    <tr>\n",
       "      <th>3</th>\n",
       "      <td>0</td>\n",
       "      <td>1</td>\n",
       "      <td>1</td>\n",
       "      <td>0</td>\n",
       "      <td>0</td>\n",
       "      <td>1</td>\n",
       "      <td>1</td>\n",
       "      <td>0</td>\n",
       "      <td>0</td>\n",
       "      <td>0</td>\n",
       "      <td>...</td>\n",
       "      <td>0</td>\n",
       "      <td>0</td>\n",
       "      <td>0</td>\n",
       "      <td>0</td>\n",
       "      <td>1</td>\n",
       "      <td>0</td>\n",
       "      <td>0</td>\n",
       "      <td>0</td>\n",
       "      <td>1</td>\n",
       "      <td>1</td>\n",
       "    </tr>\n",
       "    <tr>\n",
       "      <th>4</th>\n",
       "      <td>1</td>\n",
       "      <td>0</td>\n",
       "      <td>0</td>\n",
       "      <td>1</td>\n",
       "      <td>0</td>\n",
       "      <td>1</td>\n",
       "      <td>1</td>\n",
       "      <td>0</td>\n",
       "      <td>0</td>\n",
       "      <td>0</td>\n",
       "      <td>...</td>\n",
       "      <td>0</td>\n",
       "      <td>0</td>\n",
       "      <td>0</td>\n",
       "      <td>1</td>\n",
       "      <td>0</td>\n",
       "      <td>0</td>\n",
       "      <td>0</td>\n",
       "      <td>0</td>\n",
       "      <td>1</td>\n",
       "      <td>1</td>\n",
       "    </tr>\n",
       "  </tbody>\n",
       "</table>\n",
       "<p>5 rows × 180 columns</p>\n",
       "</div>"
      ],
      "text/plain": [
       "   cat_cf_is_cluster_changed_0  cat_cf_is_cluster_changed_1  \\\n",
       "0                            0                            1   \n",
       "1                            0                            1   \n",
       "2                            0                            1   \n",
       "3                            0                            1   \n",
       "4                            1                            0   \n",
       "\n",
       "   cat_cf_is_resort_region_changed_0  cat_cf_is_resort_region_changed_1  \\\n",
       "0                                  0                                  1   \n",
       "1                                  1                                  0   \n",
       "2                                  1                                  0   \n",
       "3                                  1                                  0   \n",
       "4                                  0                                  1   \n",
       "\n",
       "   cat_checkin_date_is_weekend_0  cat_checkin_date_is_weekend_1  \\\n",
       "0                              0                              1   \n",
       "1                              1                              0   \n",
       "2                              1                              0   \n",
       "3                              0                              1   \n",
       "4                              0                              1   \n",
       "\n",
       "   cat_cf_is_room_type_booked_changed_0  cat_cf_is_room_type_booked_changed_1  \\\n",
       "0                                     0                                     1   \n",
       "1                                     0                                     1   \n",
       "2                                     1                                     0   \n",
       "3                                     1                                     0   \n",
       "4                                     1                                     0   \n",
       "\n",
       "   cat_booking_date_month_0  cat_booking_date_month_1  ...  \\\n",
       "0                         0                         0  ...   \n",
       "1                         0                         0  ...   \n",
       "2                         0                         0  ...   \n",
       "3                         0                         0  ...   \n",
       "4                         0                         0  ...   \n",
       "\n",
       "   cat_checkin_date_day_0  cat_checkin_date_day_1  cat_checkin_date_day_2  \\\n",
       "0                       0                       0                       0   \n",
       "1                       0                       0                       0   \n",
       "2                       0                       0                       0   \n",
       "3                       0                       0                       0   \n",
       "4                       0                       0                       0   \n",
       "\n",
       "   cat_checkin_date_day_3  cat_checkin_date_day_4  cat_checkin_date_day_5  \\\n",
       "0                       0                       0                       1   \n",
       "1                       0                       1                       0   \n",
       "2                       0                       1                       1   \n",
       "3                       0                       1                       0   \n",
       "4                       1                       0                       0   \n",
       "\n",
       "   cluster_code_0  cluster_code_1  cluster_code_2  cluster_code_3  \n",
       "0               0               0               0               1  \n",
       "1               0               0               0               1  \n",
       "2               0               0               1               0  \n",
       "3               0               0               1               1  \n",
       "4               0               0               1               1  \n",
       "\n",
       "[5 rows x 180 columns]"
      ]
     },
     "execution_count": 25,
     "metadata": {},
     "output_type": "execute_result"
    }
   ],
   "source": [
    "df_encoded.head()"
   ]
  },
  {
   "cell_type": "code",
   "execution_count": 26,
   "metadata": {},
   "outputs": [
    {
     "name": "stdout",
     "output_type": "stream",
     "text": [
      "180\n"
     ]
    }
   ],
   "source": [
    "categorical_features_encoded = df_encoded.columns.tolist()\n",
    "print(categorical_features_encoded.__len__())"
   ]
  },
  {
   "cell_type": "code",
   "execution_count": null,
   "metadata": {},
   "outputs": [],
   "source": [
    "joblib.dump(categorical_features_encoded, 'data/iterables/categorical_features_encoded.joblib')"
   ]
  },
  {
   "cell_type": "code",
   "execution_count": 27,
   "metadata": {},
   "outputs": [],
   "source": [
    "df_all.reset_index(inplace=True, drop=True)\n",
    "df_encoded.reset_index(inplace=True, drop=True)"
   ]
  },
  {
   "cell_type": "code",
   "execution_count": 28,
   "metadata": {},
   "outputs": [],
   "source": [
    "df_all = df_all.merge(df_encoded, left_index=True, right_index=True, how='inner')"
   ]
  },
  {
   "cell_type": "markdown",
   "metadata": {},
   "source": [
    "### ============================================================================"
   ]
  },
  {
   "cell_type": "code",
   "execution_count": 41,
   "metadata": {},
   "outputs": [],
   "source": [
    "df_train_dataset = df_all[df_all['source'] == 'train'].copy()\n",
    "df_train_dataset.reset_index(inplace=True, drop=True)\n",
    "\n",
    "df_validation_dataset = df_all[df_all['source'] == 'validation'].copy()\n",
    "df_validation_dataset.reset_index(inplace=True, drop=True)"
   ]
  },
  {
   "cell_type": "code",
   "execution_count": 42,
   "metadata": {},
   "outputs": [
    {
     "data": {
      "text/plain": [
       "((338192, 84), (146765, 84))"
      ]
     },
     "execution_count": 42,
     "metadata": {},
     "output_type": "execute_result"
    }
   ],
   "source": [
    "df_train_dataset.shape, df_validation_dataset.shape"
   ]
  },
  {
   "cell_type": "code",
   "execution_count": 43,
   "metadata": {},
   "outputs": [],
   "source": [
    "target_transformer = FunctionTransformer(func=np.log1p, inverse_func=np.expm1, validate=True)\n",
    "df_train_dataset[target_features] = target_transformer.transform(df_train_dataset[target_features].values)"
   ]
  },
  {
   "cell_type": "code",
   "execution_count": 44,
   "metadata": {},
   "outputs": [],
   "source": [
    "df_train_dataset.to_pickle('data/df/df_train_dataset.pkl')\n",
    "df_validation_dataset.to_pickle('data/df/df_validation_dataset.pkl')"
   ]
  },
  {
   "cell_type": "code",
   "execution_count": 45,
   "metadata": {},
   "outputs": [
    {
     "data": {
      "text/plain": [
       "['models/preprocessing/target_transformer.joblib']"
      ]
     },
     "execution_count": 45,
     "metadata": {},
     "output_type": "execute_result"
    }
   ],
   "source": [
    "joblib.dump(target_transformer, 'models/preprocessing/target_transformer.joblib')"
   ]
  },
  {
   "cell_type": "code",
   "execution_count": null,
   "metadata": {},
   "outputs": [],
   "source": []
  }
 ],
 "metadata": {
  "kernelspec": {
   "display_name": "Python 3",
   "language": "python",
   "name": "python3"
  },
  "language_info": {
   "codemirror_mode": {
    "name": "ipython",
    "version": 3
   },
   "file_extension": ".py",
   "mimetype": "text/x-python",
   "name": "python",
   "nbconvert_exporter": "python",
   "pygments_lexer": "ipython3",
   "version": "3.6.7"
  }
 },
 "nbformat": 4,
 "nbformat_minor": 2
}
